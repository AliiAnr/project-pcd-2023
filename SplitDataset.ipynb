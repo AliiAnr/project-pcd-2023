{
 "cells": [
  {
   "cell_type": "code",
   "execution_count": 1,
   "metadata": {},
   "outputs": [],
   "source": [
    "import os\n",
    "import shutil\n",
    "from sklearn.model_selection import train_test_split"
   ]
  },
  {
   "cell_type": "code",
   "execution_count": 2,
   "metadata": {},
   "outputs": [],
   "source": [
    "dataset_path = \"dataset/\"\n",
    "train_path = \"forestsplt/Train/\"\n",
    "test_path = \"forestsplt/Test/\""
   ]
  },
  {
   "cell_type": "code",
   "execution_count": 3,
   "metadata": {},
   "outputs": [],
   "source": [
    "os.makedirs(train_path, exist_ok=True)\n",
    "os.makedirs(test_path, exist_ok=True)"
   ]
  },
  {
   "cell_type": "code",
   "execution_count": 4,
   "metadata": {},
   "outputs": [],
   "source": [
    "for label_folder in os.listdir(dataset_path):\n",
    "    label_folder_path = os.path.join(dataset_path, label_folder)\n",
    "    train_label_folder_path = os.path.join(train_path, label_folder)\n",
    "    test_label_folder_path = os.path.join(test_path, label_folder)\n",
    "\n",
    "    os.makedirs(train_label_folder_path, exist_ok=True)\n",
    "    os.makedirs(test_label_folder_path, exist_ok=True)\n",
    "\n",
    "    images = os.listdir(label_folder_path)\n",
    "\n",
    "    if len(images) == 0:\n",
    "        continue\n",
    "\n",
    "    train_images, test_images = train_test_split(images, test_size=0.2, random_state=42)\n",
    "\n",
    "    for image in train_images:\n",
    "        src_path = os.path.join(label_folder_path, image)\n",
    "        dest_path = os.path.join(train_label_folder_path, image)\n",
    "        shutil.move(src_path, dest_path)\n",
    "\n",
    "    for image in test_images:\n",
    "        src_path = os.path.join(label_folder_path, image)\n",
    "        dest_path = os.path.join(test_label_folder_path, image)\n",
    "        shutil.move(src_path, dest_path)"
   ]
  }
 ],
 "metadata": {
  "kernelspec": {
   "display_name": "Python 3",
   "language": "python",
   "name": "python3"
  },
  "language_info": {
   "codemirror_mode": {
    "name": "ipython",
    "version": 3
   },
   "file_extension": ".py",
   "mimetype": "text/x-python",
   "name": "python",
   "nbconvert_exporter": "python",
   "pygments_lexer": "ipython3",
   "version": "3.10.2"
  },
  "orig_nbformat": 4,
  "vscode": {
   "interpreter": {
    "hash": "e386da9ff30b4c979d065df82df5e50ad5d0c2e237414cbd8cee4b0644525ee8"
   }
  }
 },
 "nbformat": 4,
 "nbformat_minor": 2
}
