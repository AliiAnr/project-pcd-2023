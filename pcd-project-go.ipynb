{
 "cells": [
  {
   "cell_type": "code",
   "execution_count": 14,
   "metadata": {},
   "outputs": [],
   "source": [
    "import cv2 as cv\n",
    "import matplotlib.pyplot as plt\n",
    "import numpy as np\n",
    "import pandas as pd\n",
    "import os\n",
    "import math"
   ]
  },
  {
   "cell_type": "code",
   "execution_count": 15,
   "metadata": {},
   "outputs": [],
   "source": [
    "def process_dataset(dataset_dir):\n",
    "    data = []\n",
    "    labels = []\n",
    "    paths = []\n",
    "\n",
    "    for sub_folder in os.listdir(dataset_dir):\n",
    "        sub_folder_files = os.listdir(os.path.join(dataset_dir, sub_folder))\n",
    "        for i, filename in enumerate(sub_folder_files):\n",
    "            img_path = os.path.join(dataset_dir, sub_folder, filename)\n",
    "            img = cv.imread(img_path)\n",
    "            data.append(img)\n",
    "            labels.append(sub_folder)\n",
    "            paths.append(img_path)\n",
    "\n",
    "    labels = np.array(labels)\n",
    "    paths = np.array(paths)\n",
    "\n",
    "    return data, labels, paths"
   ]
  },
  {
   "cell_type": "code",
   "execution_count": 16,
   "metadata": {},
   "outputs": [],
   "source": [
    "def color_segmentation(images):\n",
    "    segmented_images = []\n",
    "    for image in images:\n",
    "        hsv = cv.cvtColor(image, cv.COLOR_BGR2HSV)\n",
    "        lower_green = np.array([36, 40, 40])\n",
    "        upper_green = np.array([70, 255, 255])\n",
    "        mask = cv.inRange(hsv, lower_green, upper_green)\n",
    "        segmented_image = cv.bitwise_and(image, image, mask=mask)\n",
    "        segmented_images.append(segmented_image)\n",
    "    return segmented_images"
   ]
  },
  {
   "cell_type": "code",
   "execution_count": 17,
   "metadata": {},
   "outputs": [],
   "source": [
    "def edge_detection(images):\n",
    "    edge_images = []\n",
    "    for image in images:\n",
    "        gray = cv.cvtColor(image, cv.COLOR_BGR2GRAY)\n",
    "        edges = cv.Canny(gray, 50, 255)\n",
    "        edge_images.append(edges)\n",
    "    return edge_images"
   ]
  },
  {
   "cell_type": "code",
   "execution_count": 18,
   "metadata": {},
   "outputs": [],
   "source": [
    "def enhance_image(images):\n",
    "    enhanced_images = []\n",
    "    for image in images:\n",
    "        gray = cv.cvtColor(image, cv.COLOR_BGR2GRAY)\n",
    "        equalized_image = cv.equalizeHist(gray)\n",
    "        enhanced_image = cv.cvtColor(equalized_image, cv.COLOR_GRAY2BGR)\n",
    "        enhanced_images.append(enhanced_image)\n",
    "    return enhanced_images"
   ]
  },
  {
   "cell_type": "code",
   "execution_count": 19,
   "metadata": {},
   "outputs": [],
   "source": [
    "def opening(images, kernel_size):\n",
    "    opened_images = []\n",
    "    kernel = np.ones((kernel_size, kernel_size), np.uint8)\n",
    "    for image in images:\n",
    "        eroded = cv.erode(image, kernel, iterations=1)\n",
    "        opened = cv.dilate(eroded, kernel, iterations=1)\n",
    "        opened_images.append(opened)\n",
    "    return opened_images"
   ]
  },
  {
   "cell_type": "code",
   "execution_count": 20,
   "metadata": {},
   "outputs": [],
   "source": [
    "def normalize_images(images):\n",
    "    normalized_images = []\n",
    "    for img in images:\n",
    "        normalized_img = cv.normalize(img, None, 0, 255, cv.NORM_MINMAX)\n",
    "        normalized_images.append(normalized_img)\n",
    "    return normalized_images"
   ]
  },
  {
   "cell_type": "code",
   "execution_count": 21,
   "metadata": {},
   "outputs": [],
   "source": [
    "dataset = \"dataset/\"\n",
    "data, labels, paths = process_dataset(dataset)\n",
    "segmented_images = color_segmentation(data)\n",
    "\n",
    "enhanced_images = enhance_image(segmented_images)\n",
    "\n",
    "normalized_images = normalize_images(enhanced_images)\n",
    "\n",
    "opened_images = opening(normalized_images, kernel_size=2)\n",
    "\n",
    "edge_images = edge_detection(opened_images)"
   ]
  },
  {
   "cell_type": "code",
   "execution_count": 27,
   "metadata": {},
   "outputs": [],
   "source": [
    "def classify_images(edge_images, paths):\n",
    "    for edge_image, path in zip(edge_images, paths):\n",
    "        file_name = os.path.basename(path)\n",
    "        white_pixel_count = np.sum(edge_image > 0)\n",
    "        threshold_dense = 15000\n",
    "        threshold_sparse = 5000\n",
    "        if white_pixel_count > threshold_dense:\n",
    "            classification = \"hutan lebat\"\n",
    "        elif white_pixel_count < threshold_sparse:\n",
    "            classification = \"hutan gundul\"\n",
    "        else:\n",
    "            classification = \"setengah lebat\"\n",
    "        save_dir = os.path.join(dataset, classification)\n",
    "        os.makedirs(save_dir, exist_ok=True)\n",
    "\n",
    "        save_path = os.path.join(save_dir, file_name)\n",
    "        cv.imwrite(save_path, edge_image)\n",
    "\n",
    "classify_images(edge_images, paths)\n"
   ]
  }
 ],
 "metadata": {
  "kernelspec": {
   "display_name": "Python 3",
   "language": "python",
   "name": "python3"
  },
  "language_info": {
   "codemirror_mode": {
    "name": "ipython",
    "version": 3
   },
   "file_extension": ".py",
   "mimetype": "text/x-python",
   "name": "python",
   "nbconvert_exporter": "python",
   "pygments_lexer": "ipython3",
   "version": "3.10.2"
  },
  "orig_nbformat": 4,
  "vscode": {
   "interpreter": {
    "hash": "e386da9ff30b4c979d065df82df5e50ad5d0c2e237414cbd8cee4b0644525ee8"
   }
  }
 },
 "nbformat": 4,
 "nbformat_minor": 2
}
