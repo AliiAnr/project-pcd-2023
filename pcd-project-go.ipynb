{
 "cells": [
  {
   "cell_type": "code",
   "execution_count": null,
   "metadata": {},
   "outputs": [],
   "source": [
    "import cv2 as cv\n",
    "import matplotlib.pyplot as plt\n",
    "import numpy as np\n",
    "import pandas as pd\n",
    "import os\n",
    "import math"
   ]
  },
  {
   "cell_type": "code",
   "execution_count": null,
   "metadata": {},
   "outputs": [],
   "source": [
    "def process_dataset(dataset_dir):\n",
    "    data = []\n",
    "    labels = []\n",
    "    paths = []\n",
    "\n",
    "    for sub_folder in os.listdir(dataset_dir):\n",
    "        sub_folder_files = os.listdir(os.path.join(dataset_dir, sub_folder))\n",
    "        for i, filename in enumerate(sub_folder_files):\n",
    "            img_path = os.path.join(dataset_dir, sub_folder, filename)\n",
    "            img = cv.imread(img_path)\n",
    "            data.append(img)\n",
    "            labels.append(sub_folder)\n",
    "            paths.append(img_path)\n",
    "\n",
    "    labels = np.array(labels)\n",
    "    paths = np.array(paths)\n",
    "\n",
    "    return data, labels, paths"
   ]
  },
  {
   "cell_type": "code",
   "execution_count": null,
   "metadata": {},
   "outputs": [],
   "source": [
    "def color_segmentation(images):\n",
    "    segmented_images = []\n",
    "    for image in images:\n",
    "        hsv = cv.cvtColor(image, cv.COLOR_BGR2HSV)\n",
    "        lower_green = np.array([36, 40, 40])\n",
    "        upper_green = np.array([70, 255, 255])\n",
    "        mask = cv.inRange(hsv, lower_green, upper_green)\n",
    "        segmented_image = cv.bitwise_and(image, image, mask=mask)\n",
    "        segmented_images.append(segmented_image)\n",
    "    return segmented_images"
   ]
  },
  {
   "cell_type": "code",
   "execution_count": null,
   "metadata": {},
   "outputs": [],
   "source": [
    "def edge_detection(images):\n",
    "    edge_images = []\n",
    "    for image in images:\n",
    "        gray = cv.cvtColor(image, cv.COLOR_BGR2GRAY)\n",
    "        edges = cv.Canny(gray, 50, 255)\n",
    "        edge_images.append(edges)\n",
    "    return edge_images"
   ]
  },
  {
   "cell_type": "code",
   "execution_count": null,
   "metadata": {},
   "outputs": [],
   "source": [
    "def enhance_image(images):\n",
    "    enhanced_images = []\n",
    "    for image in images:\n",
    "        gray = cv.cvtColor(image, cv.COLOR_BGR2GRAY)\n",
    "        equalized_image = cv.equalizeHist(gray)\n",
    "        enhanced_image = cv.cvtColor(equalized_image, cv.COLOR_GRAY2BGR)\n",
    "        enhanced_images.append(enhanced_image)\n",
    "    return enhanced_images"
   ]
  },
  {
   "cell_type": "code",
   "execution_count": null,
   "metadata": {},
   "outputs": [],
   "source": [
    "def opening(images, kernel_size):\n",
    "    opened_images = []\n",
    "    kernel = np.ones((kernel_size, kernel_size), np.uint8)\n",
    "    for image in images:\n",
    "        eroded = cv.erode(image, kernel, iterations=1)\n",
    "        opened = cv.dilate(eroded, kernel, iterations=1)\n",
    "        opened_images.append(opened)\n",
    "    return opened_images"
   ]
  },
  {
   "cell_type": "code",
   "execution_count": null,
   "metadata": {},
   "outputs": [],
   "source": [
    "def normalize_images(images):\n",
    "    normalized_images = []\n",
    "    for img in images:\n",
    "        normalized_img = cv.normalize(img, None, 0, 255, cv.NORM_MINMAX)\n",
    "        normalized_images.append(normalized_img)\n",
    "    return normalized_images"
   ]
  },
  {
   "cell_type": "code",
   "execution_count": null,
   "metadata": {},
   "outputs": [],
   "source": [
    "dataset = \"C:/Users/CATURWARGA COMPUTER/pyRPL/dataset\"\n",
    "data, labels, paths = process_dataset(dataset)"
   ]
  },
  {
   "cell_type": "code",
   "execution_count": null,
   "metadata": {},
   "outputs": [],
   "source": [
    "segmented_images = color_segmentation(data)\n",
    "\n",
    "enhanced_images = enhance_image(segmented_images)\n",
    "\n",
    "normalized_images = normalize_images(enhanced_images)\n",
    "\n",
    "opened_images = opening(normalized_images, kernel_size=2)\n",
    "\n",
    "edge_images = edge_detection(opened_images)"
   ]
  },
  {
   "cell_type": "code",
   "execution_count": null,
   "metadata": {},
   "outputs": [],
   "source": [
    "def detect_type(image):\n",
    "    gray = cv.cvtColor(image, cv.COLOR_BGR2GRAY)\n",
    "\n",
    "    edges = cv.Canny(gray, 50, 150)\n",
    "    strong_edge_pixels = np.sum(edges > 200)\n",
    "    weak_edge_pixels = np.sum(edges > 100)\n",
    "    if strong_edge_pixels > weak_edge_pixels:\n",
    "        forest_type = \"lebat\"\n",
    "    elif weak_edge_pixels > strong_edge_pixels:\n",
    "        forest_type = \"setengahgundul\"\n",
    "    else:\n",
    "        forest_type = \"gundul\"\n",
    "    \n",
    "    return forest_type"
   ]
  },
  {
   "cell_type": "code",
   "execution_count": null,
   "metadata": {},
   "outputs": [],
   "source": [
    "def detect_forest_type(data, labels, paths):\n",
    "    result_folder = \"result\"\n",
    "    \n",
    "    if not os.path.exists(result_folder):\n",
    "        os.makedirs(result_folder)\n",
    "    forest_types = [\"gundul\", \"lebat\", \"setengahgundul\"]\n",
    "    \n",
    "    for forest_type in forest_types:\n",
    "        forest_type_folder = os.path.join(result_folder, forest_type)\n",
    "        if not os.path.exists(forest_type_folder):\n",
    "            os.makedirs(forest_type_folder)\n",
    "    \n",
    "    for i, img in enumerate(data):\n",
    "        label = labels[i]\n",
    "        img_path = paths[i]\n",
    "        \n",
    "        forest_type = detect_type(img)\n",
    "        \n",
    "        destination_folder = os.path.join(result_folder, forest_type)\n",
    "        destination_path = os.path.join(destination_folder, os.path.basename(img_path))\n",
    "        os.rename(img_path, destination_path)\n",
    "        \n",
    "        print(f\"Moved {img_path} to {destination_path}\")"
   ]
  },
  {
   "cell_type": "code",
   "execution_count": null,
   "metadata": {},
   "outputs": [],
   "source": [
    "detect_forest_type(data, labels, paths)"
   ]
  }
 ],
 "metadata": {
  "kernelspec": {
   "display_name": "Python 3",
   "language": "python",
   "name": "python3"
  },
  "language_info": {
   "codemirror_mode": {
    "name": "ipython",
    "version": 3
   },
   "file_extension": ".py",
   "mimetype": "text/x-python",
   "name": "python",
   "nbconvert_exporter": "python",
   "pygments_lexer": "ipython3",
   "version": "3.10.2"
  },
  "orig_nbformat": 4,
  "vscode": {
   "interpreter": {
    "hash": "e386da9ff30b4c979d065df82df5e50ad5d0c2e237414cbd8cee4b0644525ee8"
   }
  }
 },
 "nbformat": 4,
 "nbformat_minor": 2
}
