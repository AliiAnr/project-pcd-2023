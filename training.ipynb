{
 "cells": [
  {
   "cell_type": "code",
   "execution_count": 28,
   "metadata": {},
   "outputs": [],
   "source": [
    "import cv2 as cv\n",
    "import matplotlib.pyplot as plt\n",
    "import numpy as np\n",
    "import pandas as pd\n",
    "import os\n",
    "import math\n",
    "from sklearn.model_selection import train_test_split\n",
    "from sklearn.svm import SVC\n",
    "from sklearn.neighbors import KNeighborsClassifier\n",
    "from sklearn.metrics import classification_report"
   ]
  },
  {
   "cell_type": "code",
   "execution_count": 6,
   "metadata": {},
   "outputs": [],
   "source": [
    "def process_dataset(folder):\n",
    "    images = [] \n",
    "    filenames = [] \n",
    "    labels = [] \n",
    "\n",
    "    for label in os.listdir(folder): \n",
    "        for filename in os.listdir(\"dataset/\"+label): \n",
    "            img = cv.imread(os.path.join(\"dataset/\"+label,filename))\n",
    "            filenames.append(filename) \n",
    "            labels.append(label) \n",
    "            if img is not None: \n",
    "                width = 256\n",
    "                height = 256\n",
    "                dim = (width, height)\n",
    "                resized = cv.resize(img, dim, interpolation=cv.INTER_AREA)\n",
    "                gray = cv.cvtColor(resized, cv.COLOR_BGR2GRAY)\n",
    "                images.append(gray) \n",
    "    return images, filenames, labels \n"
   ]
  },
  {
   "cell_type": "code",
   "execution_count": 7,
   "metadata": {},
   "outputs": [],
   "source": [
    "def process_dataset_result(folder):\n",
    "    images = [] \n",
    "    filenames = [] \n",
    "    labels = [] \n",
    "\n",
    "    for label in os.listdir(folder): \n",
    "        for filename in os.listdir(\"result/\"+label): \n",
    "            img = cv.imread(os.path.join(\"result/\"+label,filename))\n",
    "            filenames.append(filename) \n",
    "            labels.append(label) \n",
    "            if img is not None: \n",
    "                width = 256\n",
    "                height = 256\n",
    "                dim = (width, height)\n",
    "                resized = cv.resize(img, dim, interpolation=cv.INTER_AREA)\n",
    "                gray = cv.cvtColor(resized, cv.COLOR_BGR2GRAY)\n",
    "                images.append(gray) \n",
    "    return images, filenames, labels \n"
   ]
  },
  {
   "cell_type": "code",
   "execution_count": 10,
   "metadata": {},
   "outputs": [],
   "source": [
    "dataset = \"dataset/\"\n",
    "images, filenames, labels = process_dataset(dataset)"
   ]
  },
  {
   "cell_type": "code",
   "execution_count": 11,
   "metadata": {},
   "outputs": [],
   "source": [
    "dataset = \"result/\"\n",
    "imagesResult, filenamesResult, labelsResult = process_dataset(dataset)"
   ]
  },
  {
   "cell_type": "code",
   "execution_count": 12,
   "metadata": {},
   "outputs": [],
   "source": [
    "def calculate_glcm(image):\n",
    "    glcm = np.zeros((256, 256), dtype=np.float64)\n",
    "    height, width = image.shape\n",
    "    for i in range(height):\n",
    "        for j in range(width - 1):\n",
    "            glcm[image[i, j], image[i, j + 1]] += 1\n",
    "\n",
    "    glcm /= glcm.sum()\n",
    "    return glcm\n"
   ]
  },
  {
   "cell_type": "code",
   "execution_count": 13,
   "metadata": {},
   "outputs": [],
   "source": [
    "def calculate_contrast(glcm):\n",
    "    # Menghitung kontras berdasarkan matriks GLCM\n",
    "    contrast = 0\n",
    "    rows, cols = glcm.shape\n",
    "    for i in range(rows):\n",
    "        for j in range(cols):\n",
    "            contrast += ((i - j) ** 2) * glcm[i, j]\n",
    "\n",
    "    return contrast"
   ]
  },
  {
   "cell_type": "code",
   "execution_count": 14,
   "metadata": {},
   "outputs": [],
   "source": [
    "def calculate_homogeneity(glcm):\n",
    "    # Menghitung homogenitas berdasarkan matriks GLCM\n",
    "    homogeneity = 0\n",
    "    rows, cols = glcm.shape\n",
    "    for i in range(rows):\n",
    "        for j in range(cols):\n",
    "            homogeneity += glcm[i, j] / (1 + abs(i - j))\n",
    "\n",
    "    return homogeneity"
   ]
  },
  {
   "cell_type": "code",
   "execution_count": 15,
   "metadata": {},
   "outputs": [],
   "source": [
    "def calculate_entropy(glcm):\n",
    "    # Menghitung entropi berdasarkan matriks GLCM\n",
    "    entropy = 0\n",
    "    rows, cols = glcm.shape\n",
    "    for i in range(rows):\n",
    "        for j in range(cols):\n",
    "            if glcm[i, j] > 0:\n",
    "                entropy += glcm[i, j] * math.log2(glcm[i, j])\n",
    "\n",
    "    return -entropy"
   ]
  },
  {
   "cell_type": "code",
   "execution_count": 16,
   "metadata": {},
   "outputs": [
    {
     "name": "stdout",
     "output_type": "stream",
     "text": [
      "                     Filename    Contrast  Homogeneity    Entropy\n",
      "0              gundul (1).jpg   52.483395     0.280773  10.838833\n",
      "1             gundul (10).jpg   53.808946     0.276200  10.681469\n",
      "2            gundul (100).jpg  187.414920     0.196329  12.351989\n",
      "3            gundul (101).jpg  111.465181     0.220003  11.968528\n",
      "4            gundul (102).jpg  168.437531     0.205925  12.593211\n",
      "...                       ...         ...          ...        ...\n",
      "1103  setengahgundul (95).jpg   99.203263     0.224942  11.879718\n",
      "1104  setengahgundul (96).jpg  101.463036     0.220421  11.733966\n",
      "1105  setengahgundul (97).jpg  109.750199     0.212228  11.533223\n",
      "1106  setengahgundul (98).jpg   90.367387     0.227350  11.251493\n",
      "1107  setengahgundul (99).jpg   71.625919     0.242589  11.139113\n",
      "\n",
      "[1108 rows x 4 columns]\n"
     ]
    }
   ],
   "source": [
    "# Ekstraksi ciri tekstur untuk setiap citra\n",
    "contrast_values = []\n",
    "homogeneity_values = []\n",
    "entropy_values = []\n",
    "for i in range(len(images)):\n",
    "    glcm = calculate_glcm(images[i])\n",
    "    contrast = calculate_contrast(glcm)\n",
    "    homogeneity = calculate_homogeneity(glcm)\n",
    "    entropy = calculate_entropy(glcm)\n",
    "    contrast_values.append(contrast)\n",
    "    homogeneity_values.append(homogeneity)\n",
    "    entropy_values.append(entropy)\n",
    "\n",
    "# Menampilkan hasil ekstraksi ciri tekstur\n",
    "data = {'Filename': filenames, 'Contrast': contrast_values, 'Homogeneity': homogeneity_values, 'Entropy': entropy_values}\n",
    "df = pd.DataFrame(data)\n",
    "print(df)"
   ]
  },
  {
   "cell_type": "code",
   "execution_count": 17,
   "metadata": {},
   "outputs": [],
   "source": [
    "# Simpan hasil ekstraksi ke dalam DataFrame\n",
    "df = pd.DataFrame(data)\n",
    "\n",
    "# Simpan DataFrame ke dalam file CSV\n",
    "df.to_csv('hasil_ekstraksi.csv', index=False)"
   ]
  },
  {
   "cell_type": "code",
   "execution_count": 18,
   "metadata": {},
   "outputs": [
    {
     "data": {
      "image/png": "[encoded data removed]",
      "text/plain": [
       "<Figure size 432x288 with 2 Axes>"
      ]
     },
     "metadata": {
      "needs_background": "light"
     },
     "output_type": "display_data"
    }
   ],
   "source": [
    "# Membaca data dari file hasil ekstraksi ciri tekstur\n",
    "data = pd.read_csv('hasil_ekstraksi.csv')\n",
    "\n",
    "# Visualisasi scatter plot\n",
    "plt.scatter(data['Contrast'], data['Homogeneity'], c=data['Entropy'], cmap='viridis')\n",
    "plt.colorbar(label='Entropy')\n",
    "plt.xlabel('Contrast')\n",
    "plt.ylabel('Homogeneity')\n",
    "plt.title('Scatter Plot: Contrast vs Homogeneity')\n",
    "plt.show()"
   ]
  },
  {
   "cell_type": "code",
   "execution_count": 19,
   "metadata": {},
   "outputs": [],
   "source": [
    "class Glcm:\n",
    "    def __init__(self) :\n",
    "        pass\n",
    "    \n",
    "    def derajat_0 (self, img): \n",
    "        max = np.max(img) \n",
    "        temp = np.zeros([max+1,max+1]) \n",
    "        for i in range (len(img)):\n",
    "            for j in range(len(img[i])-1):\n",
    "                temp[img[i,j],img[i,j+1]] +=1 \n",
    "                \n",
    "        transpose = np.transpose(temp) \n",
    "        data = temp+transpose \n",
    "        tmp = 0\n",
    "        \n",
    "        for i in range (len(data)):\n",
    "            for j in range(len(data)):\n",
    "                tmp+=data[i,j]\n",
    "                \n",
    "        for i in range(len(data)):\n",
    "            for j in range(len(data)):\n",
    "                data[i,j]/=tmp\n",
    "        return data\n",
    "    \n",
    "    def derajat_45 (self, img): \n",
    "        max = np.max(img) \n",
    "        temp=np.zeros([max+1,max+1])\n",
    "        for i in range (len (img)-1):\n",
    "            for j in range (len (img[i])-1):\n",
    "                temp[img[i+1,j],img[i,j+1]] += 1 \n",
    "                \n",
    "        transpose = np.transpose(temp) \n",
    "        data= temp+transpose \n",
    "        tmp=0\n",
    "       \n",
    "        for i in range (len(data)):\n",
    "            for j in range (len(data)):\n",
    "                tmp+=data[i,j] \n",
    "                \n",
    "        for i in range (len (data)):\n",
    "            for j in range (len (data)):\n",
    "                data[i,j]/=tmp \n",
    "        return data \n",
    "    \n",
    "    def derajat_90 (self, img): \n",
    "        max = np.max(img) \n",
    "        temp=np.zeros([max+1,max+1]) \n",
    "        for i in range (len (img)-1):\n",
    "            for j in range (len (img[i])):\n",
    "                temp[img[i+1,j],img[i,j]] += 1 \n",
    "                \n",
    "        transpose= np.transpose(temp) \n",
    "        data= temp+transpose \n",
    "        tmp=0\n",
    "       \n",
    "        for i in range (len(data)):\n",
    "            for j in range (len(data)):\n",
    "                tmp+=data[i,j] \n",
    "                \n",
    "        for i in range (len (data)):\n",
    "            for j in range (len (data)):\n",
    "                data[i,j]/=tmp \n",
    "        return data \n",
    "    \n",
    "    def derajat_135 (self, img): \n",
    "        max = np.max(img) \n",
    "        imgTemp=np.zeros([max+1,max+1]) \n",
    "        for i in range (len (img)-1):\n",
    "            for j in range (len (img[i])-1):\n",
    "                imgTemp[img[i,j],img[i+1,j+1]] += 1 \n",
    "                \n",
    "        transpose= np.transpose(imgTemp) \n",
    "        data= imgTemp+transpose \n",
    "        tmp=0\n",
    "       \n",
    "        for i in range (len(data)):\n",
    "            for j in range (len(data)):\n",
    "                tmp+=data[i,j] \n",
    "                \n",
    "        for i in range (len (data)):\n",
    "            for j in range (len (data)):\n",
    "                data[i,j]/=tmp \n",
    "        return data \n",
    "\n",
    "    def dissimilarity( data): \n",
    "        simpan = 0 \n",
    "        for i in range (len(data)): \n",
    "            for j in range(len(data)):\n",
    "                simpan+= data[i,j]+abs(i-j) \n",
    "        return simpan \n",
    "    \n",
    "    def ASM( data): \n",
    "        simpan = 0 \n",
    "        for i in range (len(data)): \n",
    "            for j in range(len(data)):\n",
    "                simpan+= pow(data[i,j],2) \n",
    "        return simpan \n",
    "    \n",
    "    def contrast( data): \n",
    "        simpan = 0 \n",
    "        for i in range (len(data)): \n",
    "            for j in range(len(data)):\n",
    "                simpan+= data[i,j]+pow(i-j,2) \n",
    "        return simpan \n",
    "    \n",
    "    def entropi( data): \n",
    "        simpan = 0 \n",
    "        for i in range(len(data)): \n",
    "            for j in range(len(data)):\n",
    "                if data[i,j] > 0:\n",
    "                    simpan+= -(data[i,j] * math.log(data[i,j])) \n",
    "        return simpan \n",
    "    \n",
    "    def energy( data): \n",
    "        simpan = 0 \n",
    "        for i in range (len(data)): \n",
    "            for j in range(len(data)):\n",
    "                simpan+=pow(data[i,j],2)\n",
    "        return simpan \n",
    "    \n",
    "    def homogenitas(data): \n",
    "        simpan = 0 \n",
    "        for i in range (len(data)): \n",
    "            for j in range(len(data)):\n",
    "                simpan+=data[i,j]/(1+abs(i-j))\n",
    "        return simpan \n",
    "    \n",
    "    def correlation(data,mI,mJ,tI,tJ): \n",
    "        simpan = 0 \n",
    "        for i in range (len(data)): \n",
    "            for j in range(len(data)):\n",
    "                simpan+=((i-mI)*(j-mJ)*data[i,j])/(tI*tJ)\n",
    "        return simpan \n",
    "    \n",
    "    def meanI( data): \n",
    "        simpan = 0\n",
    "        for i in range (len(data)): \n",
    "            for j in range(len(data)):\n",
    "                simpan+= i * data[i,j] \n",
    "        return simpan \n",
    "    \n",
    "    def meanJ( data): \n",
    "        simpan = 0 \n",
    "        for i in range (len(data)): \n",
    "            for j in range(len(data)):\n",
    "                simpan+= j * data[i,j] \n",
    "        return simpan \n",
    "    \n",
    "    def taoI( data,mI):\n",
    "        simpan = 0 \n",
    "        for i in range (len(data)): \n",
    "            for j in range(len(data)):\n",
    "                simpan+= pow((i-mI),2)*data[i,j] \n",
    "        simpan = math.sqrt(simpan) \n",
    "        return simpan \n",
    "    \n",
    "    def taoJ( data,mJ): \n",
    "        simpan = 0 \n",
    "        for i in range (len(data)): \n",
    "            for j in range(len(data)):\n",
    "                simpan+= pow((j-mJ),2)*data[i,j] \n",
    "        simpan = math.sqrt(simpan) \n",
    "        return simpan \n"
   ]
  },
  {
   "cell_type": "code",
   "execution_count": 20,
   "metadata": {},
   "outputs": [],
   "source": [
    "fitur_glcm = Glcm()\n",
    "hasil = []\n",
    "for i in range(len(imagesResult)):\n",
    "    dat = []\n",
    "    dat.append(fitur_glcm.derajat_0(imagesResult[i]))\n",
    "    dat.append(fitur_glcm.derajat_45(imagesResult[i]))\n",
    "    dat.append(fitur_glcm.derajat_90(imagesResult[i]))\n",
    "    dat.append(fitur_glcm.derajat_135(imagesResult[i]))\n",
    "    hasil.append(dat)"
   ]
  },
  {
   "cell_type": "code",
   "execution_count": 21,
   "metadata": {},
   "outputs": [],
   "source": [
    "frame = []\n",
    "indeks = 0\n",
    "for i in hasil:\n",
    "    save = []\n",
    "    save.append(images[indeks])\n",
    "    indeks+=1\n",
    "    for j in i:\n",
    "        en = Glcm.energy(j)\n",
    "        save.append(en)\n",
    "        \n",
    "        hm = Glcm.homogenitas(j)\n",
    "        save.append(hm)\n",
    "        \n",
    "        ent = Glcm.entropi(j)\n",
    "        save.append(ent)\n",
    "         \n",
    "        con = Glcm.contrast(j)\n",
    "        save.append(con)\n",
    "\n",
    "        dis = Glcm.dissimilarity(j)\n",
    "        save.append(dis)\n",
    "\n",
    "        asm = Glcm.ASM(j)\n",
    "        save.append(asm)\n",
    "        \n",
    "        mI = Glcm.meanI(j)\n",
    "        mJ = Glcm.meanJ(j)\n",
    "        tI = Glcm.taoI(j,mI)\n",
    "        tJ = Glcm.taoJ(j,mJ)\n",
    "        \n",
    "        \n",
    "        cor = Glcm.correlation(j,mI,mJ,tI,tJ)\n",
    "        save.append(cor)\n",
    "        \n",
    "    frame.append(save)"
   ]
  },
  {
   "cell_type": "code",
   "execution_count": 22,
   "metadata": {},
   "outputs": [],
   "source": [
    "headerPass = ['path','energi0','homogenitas0','entropy0','contras0','dissimilarity0','ASM0','correlation0'\n",
    "           ,'energi45','homogenitas45','entropy45','contras45','dissimilarity45','ASM45','correlation45'\n",
    "           ,'energi90','homogenitas90','entropy90','contras90','dissimilarity90','ASM90','correlation90'\n",
    "           ,'energi135','homogenitas135','entropy135','contras135','dissimilarity135','ASM135','correlation135']\n",
    "df = pd.DataFrame(frame, columns=headerPass)"
   ]
  },
  {
   "cell_type": "code",
   "execution_count": 25,
   "metadata": {},
   "outputs": [],
   "source": [
    "df['labels'] = labelsResult\n",
    "df.to_csv(r'TubesData.csv', index=False)"
   ]
  },
  {
   "cell_type": "code",
   "execution_count": 26,
   "metadata": {},
   "outputs": [],
   "source": [
    "y = df['labels']\n",
    "x = df.drop(['path', 'labels'], axis=1)"
   ]
  },
  {
   "cell_type": "code",
   "execution_count": 31,
   "metadata": {},
   "outputs": [],
   "source": [
    "model = SVC()\n",
    "model2 = KNeighborsClassifier()"
   ]
  },
  {
   "cell_type": "code",
   "execution_count": 29,
   "metadata": {},
   "outputs": [],
   "source": [
    "X_train, X_test, y_train, y_test = train_test_split(x, y, test_size=0.33, random_state=15)"
   ]
  },
  {
   "cell_type": "code",
   "execution_count": 32,
   "metadata": {},
   "outputs": [
    {
     "name": "stdout",
     "output_type": "stream",
     "text": [
      "                precision    recall  f1-score   support\n",
      "\n",
      "        gundul       0.37      0.49      0.42        57\n",
      "         lebat       0.58      0.46      0.51        65\n",
      "setengahgundul       0.50      0.46      0.48        61\n",
      "\n",
      "      accuracy                           0.47       183\n",
      "     macro avg       0.48      0.47      0.47       183\n",
      "  weighted avg       0.49      0.47      0.47       183\n",
      "\n"
     ]
    }
   ],
   "source": [
    "model.fit(X_train, y_train)\n",
    "model2.fit(X_train, y_train)\n",
    "pred = model.predict(X_test)\n",
    "pred2 = model2.predict(X_test)\n",
    "print(classification_report(y_test, pred, zero_division=1))"
   ]
  },
  {
   "cell_type": "code",
   "execution_count": 33,
   "metadata": {},
   "outputs": [
    {
     "name": "stdout",
     "output_type": "stream",
     "text": [
      "SVC\n",
      "                precision    recall  f1-score   support\n",
      "\n",
      "        gundul       0.37      0.49      0.42        57\n",
      "         lebat       0.58      0.46      0.51        65\n",
      "setengahgundul       0.50      0.46      0.48        61\n",
      "\n",
      "      accuracy                           0.47       183\n",
      "     macro avg       0.48      0.47      0.47       183\n",
      "  weighted avg       0.49      0.47      0.47       183\n",
      "\n"
     ]
    }
   ],
   "source": [
    "print(\"SVC\")\n",
    "print(classification_report(y_test, pred, zero_division=1))"
   ]
  },
  {
   "cell_type": "code",
   "execution_count": 34,
   "metadata": {},
   "outputs": [
    {
     "name": "stdout",
     "output_type": "stream",
     "text": [
      "KNNC\n",
      "                precision    recall  f1-score   support\n",
      "\n",
      "        gundul       0.45      0.65      0.53        57\n",
      "         lebat       0.54      0.46      0.50        65\n",
      "setengahgundul       0.50      0.36      0.42        61\n",
      "\n",
      "      accuracy                           0.49       183\n",
      "     macro avg       0.49      0.49      0.48       183\n",
      "  weighted avg       0.50      0.49      0.48       183\n",
      "\n"
     ]
    }
   ],
   "source": [
    "print(\"KNNC\")\n",
    "print(classification_report(y_test, pred2))"
   ]
  }
 ],
 "metadata": {
  "kernelspec": {
   "display_name": "Python 3",
   "language": "python",
   "name": "python3"
  },
  "language_info": {
   "codemirror_mode": {
    "name": "ipython",
    "version": 3
   },
   "file_extension": ".py",
   "mimetype": "text/x-python",
   "name": "python",
   "nbconvert_exporter": "python",
   "pygments_lexer": "ipython3",
   "version": "3.10.2"
  },
  "orig_nbformat": 4,
  "vscode": {
   "interpreter": {
    "hash": "e386da9ff30b4c979d065df82df5e50ad5d0c2e237414cbd8cee4b0644525ee8"
   }
  }
 },
 "nbformat": 4,
 "nbformat_minor": 2
}
